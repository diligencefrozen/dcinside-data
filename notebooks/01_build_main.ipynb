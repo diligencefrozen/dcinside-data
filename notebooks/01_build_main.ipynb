import sys, pathlib, os

# 환경 감지: Google Colab vs Local
try:
    import google.colab
    IN_COLAB = True
except:
    IN_COLAB = False

if IN_COLAB:
    # Google Colab 환경
    REPO = "diligencefrozen/dcinside-data"
    BRANCH = "main"
    ROOT = pathlib.Path("/content") / REPO.split("/")[-1]
    
    if not ROOT.exists():
        !git clone -b {BRANCH} https://github.com/{REPO}.git "{ROOT}"
    %cd "{ROOT}"
    !git pull
else:
    # 로컬 환경 (VS Code, Jupyter 등)
    # 현재 노트북 위치에서 프로젝트 루트 찾기
    ROOT = pathlib.Path.cwd()
    if ROOT.name == "notebooks":
        ROOT = ROOT.parent

# src를 sys.path에 추가 (노트북이 어디서 열려도 동작)
cur = ROOT
for p in [cur, *cur.parents]:
    if (p/"src").exists():
        sys.path.insert(0, str(p/"src"))
        ROOT = p
        break

from paths import DATA, ZIP, MAIN, CLEAN, CLEAN_OKT
print(f"Environment: {'Colab' if IN_COLAB else 'Local'}")
print(f"ROOT = {ROOT}")
print(f"DATA = {DATA}")
