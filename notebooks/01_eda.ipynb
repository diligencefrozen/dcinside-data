# notebooks/01_eda.ipynb  
from src.data_loader import load_all
from src.preprocess import tokenize
df = load_all()
df["본문_tokens"] = df["내용"].fillna("").map(tokenize)
